{
 "cells": [
  {
   "cell_type": "markdown",
   "metadata": {
    "colab_type": "text",
    "id": "1WO4bWvanbxb"
   },
   "source": [
    "## Numbers"
   ]
  },
  {
   "cell_type": "markdown",
   "metadata": {},
   "source": [
    "(1). Use range() to print all the even numbers from 0 to 30."
   ]
  },
  {
   "cell_type": "code",
   "execution_count": null,
   "metadata": {},
   "outputs": [],
   "source": []
  },
  {
   "cell_type": "markdown",
   "metadata": {
    "colab_type": "text",
    "id": "Reego03Snbxd"
   },
   "source": [
    "(2). Answer these 3 questions without typing code. Then type code to check your answer."
   ]
  },
  {
   "cell_type": "markdown",
   "metadata": {
    "colab_type": "raw",
    "id": "y95M7AQhnbxe"
   },
   "source": [
    "\n",
    "   1. What is the value of the expression 7 * (2 + 8) -->guess what would be your output=\n",
    "    \n",
    "   2. What is the value of the expression 6 * 3 + 6   -->guess what would be your output=\n",
    "    \n",
    "   3. What is the value of the expression 8 + 5 * 4   -->guess what would be your output="
   ]
  },
  {
   "cell_type": "code",
   "execution_count": 0,
   "metadata": {
    "colab": {},
    "colab_type": "code",
    "id": "NR3Vxw0Enbxg"
   },
   "outputs": [],
   "source": [
    "#1ST ANSWER(type code)\n"
   ]
  },
  {
   "cell_type": "code",
   "execution_count": 0,
   "metadata": {
    "colab": {},
    "colab_type": "code",
    "id": "bDY-CUaKnbxm"
   },
   "outputs": [],
   "source": [
    "#2ND ANSWER(type code)\n"
   ]
  },
  {
   "cell_type": "code",
   "execution_count": 0,
   "metadata": {
    "colab": {},
    "colab_type": "code",
    "id": "_AsGM_XDnbxr"
   },
   "outputs": [],
   "source": [
    "#3RD ANSWER(type code)\n"
   ]
  },
  {
   "cell_type": "markdown",
   "metadata": {
    "colab_type": "text",
    "id": "3IE15z5Knbxy"
   },
   "source": [
    "------------------------------------------------------------------------------------------------------"
   ]
  },
  {
   "cell_type": "markdown",
   "metadata": {
    "colab_type": "text",
    "id": "0Run_qPcnbx0"
   },
   "source": [
    "(3). Square of \n",
    "100"
   ]
  },
  {
   "cell_type": "code",
   "execution_count": 0,
   "metadata": {
    "colab": {},
    "colab_type": "code",
    "id": "66nok7Yynbx1"
   },
   "outputs": [],
   "source": [
    "#Ans(3): \n",
    "#type code\n"
   ]
  },
  {
   "cell_type": "markdown",
   "metadata": {
    "colab_type": "text",
    "id": "Qt4bggmvnbx7"
   },
   "source": [
    "-------------------"
   ]
  },
  {
   "cell_type": "markdown",
   "metadata": {
    "colab_type": "text",
    "id": "Ai12LzKbnbx9"
   },
   "source": [
    "(4). Square_root of\n",
    "50"
   ]
  },
  {
   "cell_type": "code",
   "execution_count": 0,
   "metadata": {
    "colab": {},
    "colab_type": "code",
    "id": "TJgTjNC1nbx-"
   },
   "outputs": [],
   "source": [
    "#Ans(4):                                                    \n",
    "#type code\n"
   ]
  },
  {
   "cell_type": "markdown",
   "metadata": {
    "colab_type": "text",
    "id": "QPByS8Y9nbyE"
   },
   "source": [
    "-----------"
   ]
  },
  {
   "cell_type": "markdown",
   "metadata": {
    "colab_type": "text",
    "id": "CDRAvjXznbyG"
   },
   "source": [
    "(5).Given the string 'great' give an index command that returns 'e'. Enter your code in the cell below:\n",
    "'great'"
   ]
  },
  {
   "cell_type": "code",
   "execution_count": 0,
   "metadata": {
    "colab": {},
    "colab_type": "code",
    "id": "4aenMppqnbyI"
   },
   "outputs": [],
   "source": [
    "#Ans(5):\n",
    "#Type your code here\n"
   ]
  },
  {
   "cell_type": "markdown",
   "metadata": {
    "colab_type": "text",
    "id": "5VV1GeChnbyS"
   },
   "source": [
    "------------"
   ]
  },
  {
   "cell_type": "markdown",
   "metadata": {
    "colab_type": "text",
    "id": "0S7WlpQwnbyU"
   },
   "source": [
    "(6). Reverse the string 'great' using slicing:\n",
    "\n"
   ]
  },
  {
   "cell_type": "code",
   "execution_count": 0,
   "metadata": {
    "colab": {},
    "colab_type": "code",
    "id": "U962wIsWnbyV"
   },
   "outputs": [],
   "source": [
    "#Ans(6):\n",
    "#Type your code here\n"
   ]
  },
  {
   "cell_type": "markdown",
   "metadata": {
    "colab_type": "text",
    "id": "e39uoGlQnbyb"
   },
   "source": [
    "-----"
   ]
  },
  {
   "cell_type": "markdown",
   "metadata": {
    "colab_type": "text",
    "id": "njEEsQ1Nnbyc"
   },
   "source": [
    "(7).Given the string GREAT, give two methods of producing the letter 'T' using indexing.\n",
    "\n",
    "\n",
    "Print out the 'T'"
   ]
  },
  {
   "cell_type": "code",
   "execution_count": 0,
   "metadata": {
    "colab": {},
    "colab_type": "code",
    "id": "Tc1VN_W0nbyd"
   },
   "outputs": [],
   "source": [
    "# Method 1 :"
   ]
  },
  {
   "cell_type": "code",
   "execution_count": 0,
   "metadata": {
    "colab": {},
    "colab_type": "code",
    "id": "9czT1lrdnby6"
   },
   "outputs": [],
   "source": [
    "# Method 2 :"
   ]
  },
  {
   "cell_type": "markdown",
   "metadata": {
    "colab_type": "text",
    "id": "hYXaIAwPnbzA"
   },
   "source": [
    "-----"
   ]
  },
  {
   "cell_type": "markdown",
   "metadata": {
    "colab_type": "text",
    "id": "DJKU29H6nbzD"
   },
   "source": [
    "(8) Make a dictionary with {} and : to signify a key and a value\n",
    "\n",
    "   keys   = sara,rohit,dawan,amit,archit\n",
    "   \n",
    "   \n",
    "   values = 96,95,25,11,22\n"
   ]
  },
  {
   "cell_type": "code",
   "execution_count": 0,
   "metadata": {
    "colab": {},
    "colab_type": "code",
    "id": "P6sEJMw2nbzG"
   },
   "outputs": [],
   "source": [
    "#Ans(8):\n",
    "#type your code here :"
   ]
  },
  {
   "cell_type": "markdown",
   "metadata": {
    "colab_type": "text",
    "id": "l3MgfoNtnbzR"
   },
   "source": [
    "----"
   ]
  },
  {
   "cell_type": "markdown",
   "metadata": {
    "colab_type": "text",
    "id": "IDJGCS1FnbzR"
   },
   "source": [
    "(9) dict = {'abc':999,'cde':(222,213,111),'efg':['object0','object1','object2']}\n",
    "\n",
    "\n",
    "type a code output to be:\n",
    "\n",
    "\n",
    "   ['object0','object1','object2']"
   ]
  },
  {
   "cell_type": "code",
   "execution_count": 0,
   "metadata": {
    "colab": {},
    "colab_type": "code",
    "id": "1BdVe4IJnbzS"
   },
   "outputs": [],
   "source": [
    "#Ans(9):\n",
    "#type your code here :"
   ]
  },
  {
   "cell_type": "markdown",
   "metadata": {
    "colab_type": "text",
    "id": "FLP9Fw3FnbzV"
   },
   "source": [
    "-----"
   ]
  },
  {
   "cell_type": "markdown",
   "metadata": {
    "colab_type": "text",
    "id": "leo9x1kDnbzW"
   },
   "source": [
    "(10) dict = {'abc':999,'cde':(222,213,111),'efg':['object0','object1','object2']}\n",
    " \n",
    "type a code output to be:\n",
    "\n",
    "  ['object0']"
   ]
  },
  {
   "cell_type": "code",
   "execution_count": 0,
   "metadata": {
    "colab": {},
    "colab_type": "code",
    "id": "y083N3LWnbzX"
   },
   "outputs": [],
   "source": [
    "#Ans(10):\n",
    "#type your code here :"
   ]
  },
  {
   "cell_type": "markdown",
   "metadata": {
    "colab_type": "text",
    "id": "F-brWC57nbzZ"
   },
   "source": [
    "-------"
   ]
  },
  {
   "cell_type": "markdown",
   "metadata": {
    "colab_type": "text",
    "id": "YmUWzlAgnbza"
   },
   "source": [
    "(11) my_dict = {'abc':999,'cde':(222,213,111),'efg':['object0','object1','object2']}\n",
    "\n",
    "  type a code output to be:\n",
    "\n",
    "   ['OBJECT0']"
   ]
  },
  {
   "cell_type": "code",
   "execution_count": 0,
   "metadata": {
    "colab": {},
    "colab_type": "code",
    "id": "Kv8ES78Inbzb"
   },
   "outputs": [],
   "source": [
    "#Ans(11):\n",
    "#type your code here :"
   ]
  },
  {
   "cell_type": "markdown",
   "metadata": {
    "colab_type": "text",
    "id": "f-XQ2hSLnbze"
   },
   "source": [
    "-------"
   ]
  },
  {
   "cell_type": "markdown",
   "metadata": {
    "colab_type": "text",
    "id": "aZNnb71cnbze"
   },
   "source": [
    "(12) \n",
    "'Hello World concatenate me'\n",
    "\n",
    " type a code output to be:\n",
    "\n",
    "    ['Hello', 'World', 'concatenate', 'me']"
   ]
  },
  {
   "cell_type": "code",
   "execution_count": 0,
   "metadata": {
    "colab": {},
    "colab_type": "code",
    "id": "lmvaGOnjnbzf"
   },
   "outputs": [],
   "source": [
    "#Ans(12):\n",
    "#type your code here :"
   ]
  },
  {
   "cell_type": "markdown",
   "metadata": {
    "colab_type": "text",
    "id": "M-f-wZ2Xnbzh"
   },
   "source": [
    "------"
   ]
  },
  {
   "cell_type": "markdown",
   "metadata": {
    "colab_type": "text",
    "id": "223dC-88nbzi"
   },
   "source": [
    "(13)\n",
    "\n",
    " Grab everything, but go in step sizes of 2:-'hello world'\n",
    "\n",
    " type a code output to be:\n",
    "\n",
    "  'hlowrd'"
   ]
  },
  {
   "cell_type": "code",
   "execution_count": 0,
   "metadata": {
    "colab": {},
    "colab_type": "code",
    "id": "iG3WrvuYnbzj"
   },
   "outputs": [],
   "source": [
    "#Ans(13):\n",
    "#type your code here :"
   ]
  },
  {
   "cell_type": "markdown",
   "metadata": {
    "colab_type": "text",
    "id": "rPx3cAtSnbzl"
   },
   "source": [
    "-----"
   ]
  },
  {
   "cell_type": "markdown",
   "metadata": {
    "colab_type": "text",
    "id": "L3i-zxumnbzm"
   },
   "source": [
    "(14)\n",
    "d = {'k1':[{'nest_key':['this is deep',['hello']]}]}\n",
    "\n",
    "type a code output to be:\n",
    "\n",
    "    'hello'"
   ]
  },
  {
   "cell_type": "code",
   "execution_count": 0,
   "metadata": {
    "colab": {},
    "colab_type": "code",
    "id": "51l9txpenbzm"
   },
   "outputs": [],
   "source": [
    "#Ans(14):\n",
    "#type your code here :"
   ]
  },
  {
   "cell_type": "markdown",
   "metadata": {
    "colab_type": "text",
    "id": "ZqhxWV6Tnbzr"
   },
   "source": [
    "----"
   ]
  },
  {
   "cell_type": "markdown",
   "metadata": {
    "colab_type": "text",
    "id": "HWOZFolznbzs"
   },
   "source": [
    "(15)\n",
    " Reassign 'hello' in this nested list to say 'bye' instead:\n",
    " \n",
    "a = [1,2,[3,4,'hello']]\n",
    "\n",
    " type a code output to be:\n",
    "\n",
    "   [1, 2, [3, 4, 'bye']]"
   ]
  },
  {
   "cell_type": "code",
   "execution_count": 0,
   "metadata": {
    "colab": {},
    "colab_type": "code",
    "id": "VPvcXSTRnbzt"
   },
   "outputs": [],
   "source": [
    "#Ans(15):\n",
    "#type your code here :\n"
   ]
  },
  {
   "cell_type": "markdown",
   "metadata": {
    "colab_type": "text",
    "id": "0f5fYUOsnbzw"
   },
   "source": [
    "----"
   ]
  },
  {
   "cell_type": "markdown",
   "metadata": {
    "colab_type": "text",
    "id": "3bJT9qbenbzx"
   },
   "source": [
    "(16)\n",
    "x=5,\n",
    "y=10,\n",
    "z=5\n",
    "\n",
    "write an if,elif,else condition.\n",
    "\n",
    "\n",
    "'x' greater than 'y' then output to be 'GREATER',and if 'z' equal to 'y' then output to be 'EQUAL',ifnot output to be 'UNKNOWN'."
   ]
  },
  {
   "cell_type": "code",
   "execution_count": 0,
   "metadata": {
    "colab": {},
    "colab_type": "code",
    "id": "WvlaEuhxnbzy"
   },
   "outputs": [],
   "source": [
    "#Ans(16):\n",
    "#type your code here :\n"
   ]
  },
  {
   "cell_type": "markdown",
   "metadata": {
    "colab_type": "text",
    "id": "1hmAapOInbz1"
   },
   "source": [
    "----"
   ]
  },
  {
   "cell_type": "markdown",
   "metadata": {
    "colab_type": "text",
    "id": "F-M--lRInbz3"
   },
   "source": [
    "(17)\n",
    "\n",
    " find the unique values of the list below:\n",
    "        \n",
    "a=[1,1,1,12,33,33,222,222,11,11,11,11,,112,112,110,110,110,100,100,99,99,67,67]\n",
    "\n",
    " type a code output to be:\n",
    "\n",
    "   [1,12,33,222,11,112,110,100,99,67]\n",
    "\n"
   ]
  },
  {
   "cell_type": "code",
   "execution_count": 0,
   "metadata": {
    "colab": {},
    "colab_type": "code",
    "id": "lbTQgR5enbz4"
   },
   "outputs": [],
   "source": [
    "#Ans(17):\n",
    "#type your code here :"
   ]
  },
  {
   "cell_type": "markdown",
   "metadata": {
    "colab_type": "text",
    "id": "_i0Hqecdnbz6"
   },
   "source": [
    "------"
   ]
  },
  {
   "cell_type": "markdown",
   "metadata": {
    "colab_type": "text",
    "id": "KBfQsUw3nbz7"
   },
   "source": [
    "----"
   ]
  },
  {
   "cell_type": "markdown",
   "metadata": {
    "colab_type": "text",
    "id": "1sH-6hwjnbz8"
   },
   "source": [
    "(18) Write a program that prints the integers from 1 to 100. But for multiples of three print \"GREAT\" instead of the number, and for the multiples of five print \"LEARNING\". For numbers which are multiples of both three and five print \"GREATLEARNING\".**"
   ]
  },
  {
   "cell_type": "code",
   "execution_count": 0,
   "metadata": {
    "colab": {},
    "colab_type": "code",
    "id": "9WWgUGXAnbz9"
   },
   "outputs": [],
   "source": [
    "#Ans(18):\n",
    "#type your code here :"
   ]
  },
  {
   "cell_type": "markdown",
   "metadata": {
    "colab_type": "text",
    "id": "N3Wy8DN1nb0D"
   },
   "source": [
    "------------------------"
   ]
  },
  {
   "cell_type": "markdown",
   "metadata": {
    "colab_type": "text",
    "id": "EHcHFuPDnb0E"
   },
   "source": [
    "# -------------------------------------HAPPY LEARNING-----------------------------------------------"
   ]
  },
  {
   "cell_type": "markdown",
   "metadata": {
    "colab_type": "text",
    "id": "l9L7mdpVnb0F"
   },
   "source": [
    "--------------------------"
   ]
  }
 ],
 "metadata": {
  "colab": {
   "name": "LAB_EXERCISE_01.ipynb",
   "provenance": [],
   "version": "0.3.2"
  },
  "kernelspec": {
   "display_name": "Python 3",
   "language": "python",
   "name": "python3"
  },
  "language_info": {
   "codemirror_mode": {
    "name": "ipython",
    "version": 3
   },
   "file_extension": ".py",
   "mimetype": "text/x-python",
   "name": "python",
   "nbconvert_exporter": "python",
   "pygments_lexer": "ipython3",
   "version": "3.8.5"
  }
 },
 "nbformat": 4,
 "nbformat_minor": 1
}
