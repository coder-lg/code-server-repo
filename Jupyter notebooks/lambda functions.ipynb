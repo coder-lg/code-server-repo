{
 "cells": [
  {
   "cell_type": "markdown",
   "metadata": {},
   "source": [
    "# User Defined Functions"
   ]
  },
  {
   "cell_type": "code",
   "execution_count": 17,
   "metadata": {},
   "outputs": [
    {
     "name": "stdout",
     "output_type": "stream",
     "text": [
      "x^2+7= 32\n",
      "this is x^2+7\n"
     ]
    }
   ],
   "source": [
    "def x2p7(x):\n",
    "    \"\"\"this is x^2+7\"\"\"\n",
    "    y=x*x\n",
    "    z=y+7\n",
    "    return z\n",
    "print('x^2+7=',x2p7(5))\n",
    "print(x2p7.__doc__)"
   ]
  },
  {
   "cell_type": "code",
   "execution_count": 10,
   "metadata": {},
   "outputs": [
    {
     "data": {
      "text/plain": [
       "<function __main__.x2p7(x)>"
      ]
     },
     "execution_count": 10,
     "metadata": {},
     "output_type": "execute_result"
    }
   ],
   "source": [
    "x2p7"
   ]
  },
  {
   "cell_type": "code",
   "execution_count": 6,
   "metadata": {},
   "outputs": [
    {
     "name": "stdout",
     "output_type": "stream",
     "text": [
      "[34, 234, 31, 888, 68, 468, 62, 1776, 102, 702, 93, 2664, 136, 936, 124, 3552]\n"
     ]
    }
   ],
   "source": [
    "def complicated_function(x,y):\n",
    "    lenx=len(x)\n",
    "    leny=len(y)\n",
    "    z=[0]*(lenx*leny)\n",
    "    counter=0\n",
    "    for i in x:\n",
    "        for j in y:\n",
    "            z[counter]=i*j\n",
    "            counter=counter+1\n",
    "    return z\n",
    "\n",
    "output=complicated_function([1,2,3,4],[34,234,31,888])\n",
    "print(output)"
   ]
  }
 ],
 "metadata": {
  "kernelspec": {
   "display_name": "Python 3",
   "language": "python",
   "name": "python3"
  },
  "language_info": {
   "codemirror_mode": {
    "name": "ipython",
    "version": 3
   },
   "file_extension": ".py",
   "mimetype": "text/x-python",
   "name": "python",
   "nbconvert_exporter": "python",
   "pygments_lexer": "ipython3",
   "version": "3.8.5"
  },
  "metadata": {
   "interpreter": {
    "hash": "2b7b5a710781a87842cfe8010c06442799678ef166246941c85da77d9a8410c1"
   }
  }
 },
 "nbformat": 4,
 "nbformat_minor": 2
}
