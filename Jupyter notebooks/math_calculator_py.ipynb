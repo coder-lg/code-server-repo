{
 "cells": [
  {
   "cell_type": "markdown",
   "metadata": {},
   "source": [
    "# Math calculators"
   ]
  },
  {
   "cell_type": "markdown",
   "metadata": {},
   "source": [
    "## For Multiplication"
   ]
  },
  {
   "cell_type": "code",
   "execution_count": 1,
   "metadata": {
    "scrolled": true
   },
   "outputs": [
    {
     "name": "stdout",
     "output_type": "stream",
     "text": [
      "10 times 75 is 750\n"
     ]
    }
   ],
   "source": [
    "a=75\n",
    "times=10\n",
    "print(times,'times',a,'is',times*a)"
   ]
  },
  {
   "cell_type": "markdown",
   "metadata": {},
   "source": [
    "## For Addition"
   ]
  },
  {
   "cell_type": "code",
   "execution_count": 19,
   "metadata": {},
   "outputs": [
    {
     "name": "stdout",
     "output_type": "stream",
     "text": [
      "2972043 added to 2358095 is 5330138\n"
     ]
    }
   ],
   "source": [
    "a=2972043\n",
    "b=2358095\n",
    "print(a,'added to',b,'is',a+b)"
   ]
  },
  {
   "cell_type": "markdown",
   "metadata": {},
   "source": [
    "# For Subtraction"
   ]
  },
  {
   "cell_type": "code",
   "execution_count": 21,
   "metadata": {},
   "outputs": [
    {
     "name": "stdout",
     "output_type": "stream",
     "text": [
      "2370597450975390 subtracted from 4238725387235752 is 1868127936260362\n"
     ]
    }
   ],
   "source": [
    "a=4238725387235752\n",
    "b=2370597450975390\n",
    "print(b,'subtracted from',a,'is',a-b)"
   ]
  },
  {
   "cell_type": "markdown",
   "metadata": {},
   "source": [
    "# For Division"
   ]
  },
  {
   "cell_type": "code",
   "execution_count": 1,
   "metadata": {},
   "outputs": [
    {
     "name": "stdout",
     "output_type": "stream",
     "text": [
      "49 divided by 7 is equal to 7.0\n"
     ]
    }
   ],
   "source": [
    "a=49\n",
    "b=7\n",
    "print(a,'divided by',b,'is equal to',a/b)"
   ]
  }
 ],
 "metadata": {
  "kernelspec": {
   "display_name": "Python 3",
   "language": "python",
   "name": "python3"
  },
  "language_info": {
   "codemirror_mode": {
    "name": "ipython",
    "version": 3
   },
   "file_extension": ".py",
   "mimetype": "text/x-python",
   "name": "python",
   "nbconvert_exporter": "python",
   "pygments_lexer": "ipython3",
   "version": "3.8.5"
  },
  "metadata": {
   "interpreter": {
    "hash": "2b7b5a710781a87842cfe8010c06442799678ef166246941c85da77d9a8410c1"
   }
  }
 },
 "nbformat": 4,
 "nbformat_minor": 4
}
