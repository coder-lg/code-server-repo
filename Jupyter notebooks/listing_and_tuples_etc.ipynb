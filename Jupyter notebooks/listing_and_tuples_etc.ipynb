{
 "cells": [
  {
   "cell_type": "markdown",
   "metadata": {},
   "source": [
    "### Listing"
   ]
  },
  {
   "cell_type": "code",
   "execution_count": 1,
   "metadata": {},
   "outputs": [
    {
     "name": "stdout",
     "output_type": "stream",
     "text": [
      "['Jupyter', 2, 3, 4, 5, 'conda']\n",
      "Jupyter\n",
      "2\n",
      "3\n",
      "4\n",
      "5\n",
      "conda\n",
      "6\n",
      "['Jupyter', 3, 4, 5, 'conda']\n",
      "['Jupyter', 3, 4, 5, 'conda', 'to the back']\n"
     ]
    }
   ],
   "source": [
    "list_01=['Jupyter',2,3,4,5,'conda']\n",
    "print(list_01)\n",
    "print(list_01[0])\n",
    "print(list_01[1])\n",
    "print(list_01[2])\n",
    "print(list_01[3])\n",
    "print(list_01[4])\n",
    "print(list_01[5])\n",
    "print(len(list_01))\n",
    "list_01.pop(1)\n",
    "print(list_01)\n",
    "list_01.append('to the back')\n",
    "print(list_01)"
   ]
  },
  {
   "cell_type": "markdown",
   "metadata": {},
   "source": [
    "# Making a new list by using the same old list name with [1]"
   ]
  },
  {
   "cell_type": "code",
   "execution_count": 12,
   "metadata": {},
   "outputs": [
    {
     "name": "stdout",
     "output_type": "stream",
     "text": [
      "['Jupyter', [1, 2, 3, 4, 5, 6, 7, 8], 4, 5, 'conda', 'to the back']\n",
      "[1, 2, 3, 4, 5, 6, 7, 8]\n",
      "6\n"
     ]
    }
   ],
   "source": [
    "list_01[1]=[1,2,3,4,5,6,7,8]\n",
    "print(list_01)\n",
    "print(list_01[1])\n",
    "print(list_01[1][5])"
   ]
  },
  {
   "cell_type": "markdown",
   "metadata": {},
   "source": [
    "# Duplicating and renaming a number/name in a list"
   ]
  },
  {
   "cell_type": "code",
   "execution_count": 3,
   "metadata": {},
   "outputs": [
    {
     "name": "stdout",
     "output_type": "stream",
     "text": [
      "['Jupyter', [1, 2, 3, 4, 5, 6], 4, 5, 'conda', 'to the back']\n",
      "['Jupyter', [1, 2, 3, 4, 5, 6], 4, 5, 'condareddy', 'to the back']\n",
      "['Jupyter', [1, 2, 3, 4, 5, 6], 4, 5, 'conda', 'to the back']\n"
     ]
    }
   ],
   "source": [
    "list2=list_01\n",
    "print(list2)\n",
    "list2[4]='condareddy'\n",
    "print(list_01)\n",
    "list2[4]='conda'\n",
    "print(list_01)"
   ]
  },
  {
   "cell_type": "markdown",
   "metadata": {},
   "source": [
    "# Print"
   ]
  },
  {
   "cell_type": "code",
   "execution_count": 4,
   "metadata": {},
   "outputs": [
    {
     "name": "stdout",
     "output_type": "stream",
     "text": [
      "['Jupyter', [1, 2, 3, 4, 5, 6], 4, 5, 'conda', 'to the back']\n"
     ]
    }
   ],
   "source": [
    "print(list_01)"
   ]
  },
  {
   "cell_type": "markdown",
   "metadata": {},
   "source": [
    "# Copying and renaming a component in a list"
   ]
  },
  {
   "cell_type": "code",
   "execution_count": 5,
   "metadata": {},
   "outputs": [
    {
     "name": "stdout",
     "output_type": "stream",
     "text": [
      "['Jupyter', [1, 2, 3, 4, 5, 6], 4, 5, 'conda', 'to the back']\n",
      "['Jupyter', 'EZ', 4, 5, 'conda', 'to the back']\n"
     ]
    }
   ],
   "source": [
    "list3=list_01.copy()\n",
    "print(list3)\n",
    "list3[1]='EZ'\n",
    "print(list3)"
   ]
  },
  {
   "cell_type": "markdown",
   "metadata": {},
   "source": [
    "# Tuples"
   ]
  },
  {
   "cell_type": "code",
   "execution_count": 13,
   "metadata": {},
   "outputs": [
    {
     "name": "stdout",
     "output_type": "stream",
     "text": [
      "(1212, 4332, 3523.5, 24432)\n",
      "4332\n",
      "4\n",
      "[12, 4332, 3523.5, 24432]\n",
      "(12, 4332, 3523.5, 24432)\n"
     ]
    }
   ],
   "source": [
    "dummies_tuple=(1212,4332,3523.5,24432)\n",
    "print(dummies_tuple)\n",
    "print(dummies_tuple[1])\n",
    "print(len(dummies_tuple))\n",
    "dummy = list(dummies_tuple)\n",
    "dummy[0]=12\n",
    "print(dummy)\n",
    "dummies_tuple = tuple(dummy)\n",
    "print(dummies_tuple)"
   ]
  },
  {
   "cell_type": "markdown",
   "metadata": {},
   "source": [
    "# Sets"
   ]
  },
  {
   "cell_type": "code",
   "execution_count": 7,
   "metadata": {},
   "outputs": [
    {
     "name": "stdout",
     "output_type": "stream",
     "text": [
      "{12434, 'water', 1213, 'genius'}\n",
      "True\n",
      "False\n",
      "{'water', 72, 12434, 'genius', 1213}\n",
      "{72, 12434, 'genius', 1213}\n"
     ]
    }
   ],
   "source": [
    "new_set={1213,12434,'water','genius'}\n",
    "print(new_set)\n",
    "print('water' in new_set)\n",
    "print('dummy' in new_set)\n",
    "new_set.add(72)\n",
    "print(new_set)\n",
    "new_set.remove('water')\n",
    "print(new_set)"
   ]
  },
  {
   "cell_type": "markdown",
   "metadata": {},
   "source": [
    "# Dictionaries"
   ]
  },
  {
   "cell_type": "code",
   "execution_count": 8,
   "metadata": {},
   "outputs": [
    {
     "name": "stdout",
     "output_type": "stream",
     "text": [
      "{'brand': 'Apple', 'product': 'iPhone', 'model': '12'}\n",
      "I bought an iPhone 12 from the Apple store\n"
     ]
    }
   ],
   "source": [
    "simple_dict={\n",
    "        \"brand\": \"Apple\",\n",
    "        \"product\": \"iPhone\",\n",
    "        \"model\": \"12\"\n",
    "}\n",
    "print(simple_dict)\n",
    "print('I bought an',simple_dict['product'],simple_dict['model'],'from the',simple_dict['brand'],'store')"
   ]
  },
  {
   "cell_type": "markdown",
   "metadata": {},
   "source": [
    "# Renaming a component in a dictionary"
   ]
  },
  {
   "cell_type": "code",
   "execution_count": 9,
   "metadata": {},
   "outputs": [
    {
     "name": "stdout",
     "output_type": "stream",
     "text": [
      "I bought an iPhone 12 Pro Max from the Apple store\n"
     ]
    }
   ],
   "source": [
    "simple_dict[\"model\"]=\"12 Pro Max\"\n",
    "print('I bought an',simple_dict['product'],simple_dict['model'],'from the',simple_dict['brand'],'store')"
   ]
  },
  {
   "cell_type": "markdown",
   "metadata": {},
   "source": [
    "# Adding a component in a dictionary"
   ]
  },
  {
   "cell_type": "code",
   "execution_count": 10,
   "metadata": {},
   "outputs": [
    {
     "name": "stdout",
     "output_type": "stream",
     "text": [
      "I bought an red iPhone 12 Pro Max from the Apple store\n"
     ]
    }
   ],
   "source": [
    "simple_dict[\"color\"]=\"red\"\n",
    "print('I bought an',simple_dict['color'],simple_dict['product'],simple_dict['model'],'from the',simple_dict['brand'],'store')"
   ]
  },
  {
   "cell_type": "markdown",
   "metadata": {},
   "source": [
    "# Creating and taking specific components\n",
    "### ie: 0,a,b,c,d,e,f\n",
    "### print(simple_list[a:c])\n",
    "## Components from a to c will be printed"
   ]
  },
  {
   "cell_type": "code",
   "execution_count": 11,
   "metadata": {},
   "outputs": [
    {
     "name": "stdout",
     "output_type": "stream",
     "text": [
      "[1, 2, 3, 4, 5, 6, 7, 8, 9, 10]\n",
      "[3, 4, 5]\n",
      "[2, 3, 4, 5, 6]\n",
      "[8, 9]\n"
     ]
    }
   ],
   "source": [
    "simple_list=[1,2,3,4,5,6,7,8,9,10]\n",
    "print(simple_list)\n",
    "print(simple_list[2:5])\n",
    "print(simple_list[1:6])\n",
    "print(simple_list[-3:-1])"
   ]
  }
 ],
 "metadata": {
  "kernelspec": {
   "display_name": "Python 3",
   "language": "python",
   "name": "python3"
  },
  "language_info": {
   "codemirror_mode": {
    "name": "ipython",
    "version": 3
   },
   "file_extension": ".py",
   "mimetype": "text/x-python",
   "name": "python",
   "nbconvert_exporter": "python",
   "pygments_lexer": "ipython3",
   "version": "3.8.5"
  }
 },
 "nbformat": 4,
 "nbformat_minor": 4
}
