{
 "cells": [
  {
   "cell_type": "markdown",
   "metadata": {},
   "source": [
    "# Flow Control"
   ]
  },
  {
   "cell_type": "markdown",
   "metadata": {},
   "source": [
    "## Loops"
   ]
  },
  {
   "cell_type": "markdown",
   "metadata": {},
   "source": [
    "### For loops"
   ]
  },
  {
   "cell_type": "code",
   "execution_count": null,
   "metadata": {},
   "outputs": [],
   "source": [
    "counter=0\n",
    "simple_list=[0,1,2,3,4,5,6,2143,123,7834]\n",
    "for i in simple_list:\n",
    "    print(i)\n",
    "    counter=counter+1\n",
    "print('this line is not inside the loop')\n",
    "print('the loop cycled',counter,'times')"
   ]
  },
  {
   "cell_type": "code",
   "execution_count": null,
   "metadata": {},
   "outputs": [],
   "source": [
    "for i in simple_list[1:4]:\n",
    "    for j in simple_list[4:7]:\n",
    "        print(i*j)\n",
    "    print('outside of j loop')\n",
    "print('outside of both loops')"
   ]
  },
  {
   "cell_type": "code",
   "execution_count": null,
   "metadata": {},
   "outputs": [],
   "source": [
    "print(range(6))"
   ]
  },
  {
   "cell_type": "code",
   "execution_count": null,
   "metadata": {},
   "outputs": [],
   "source": [
    "for i in range(6):\n",
    "    print(i)"
   ]
  },
  {
   "cell_type": "code",
   "execution_count": null,
   "metadata": {},
   "outputs": [],
   "source": [
    "for i in range(4,10):\n",
    "    print(i)"
   ]
  },
  {
   "cell_type": "code",
   "execution_count": null,
   "metadata": {},
   "outputs": [],
   "source": [
    "for i in range(2,10,2):\n",
    "    print(i)"
   ]
  },
  {
   "cell_type": "code",
   "execution_count": null,
   "metadata": {},
   "outputs": [],
   "source": [
    "list(range(6,15,3))"
   ]
  },
  {
   "cell_type": "code",
   "execution_count": null,
   "metadata": {},
   "outputs": [],
   "source": [
    "list(range(1,1000,9))"
   ]
  },
  {
   "cell_type": "markdown",
   "metadata": {},
   "source": [
    "### While loop"
   ]
  },
  {
   "cell_type": "code",
   "execution_count": null,
   "metadata": {},
   "outputs": [],
   "source": [
    "i=4\n",
    "while i<10:\n",
    "    print(i)\n",
    "    i=i+1\n",
    "print('outside the loop')"
   ]
  },
  {
   "cell_type": "code",
   "execution_count": null,
   "metadata": {},
   "outputs": [],
   "source": [
    "i=3\n",
    "while i<30:\n",
    "    print(i)\n",
    "    i=i+3\n",
    "while i<63:\n",
    "    print(i)\n",
    "    i=i+6\n",
    "\n",
    "print('outside the loop')"
   ]
  },
  {
   "cell_type": "markdown",
   "metadata": {},
   "source": [
    "### If/Else/Elseif statements"
   ]
  },
  {
   "cell_type": "code",
   "execution_count": 37,
   "metadata": {},
   "outputs": [
    {
     "name": "stdout",
     "output_type": "stream",
     "text": [
      "3 is less than 10\n",
      "run this\n"
     ]
    }
   ],
   "source": [
    "i=3\n",
    "if i<10:\n",
    "    print(i,'is less than 10')\n",
    "    print('run this')\n",
    "else:\n",
    "    print(i,'is greater than 10')\n"
   ]
  },
  {
   "cell_type": "code",
   "execution_count": 41,
   "metadata": {},
   "outputs": [
    {
     "name": "stdout",
     "output_type": "stream",
     "text": [
      "4 is between 3 and 10\n"
     ]
    }
   ],
   "source": [
    "i=30\n",
    "if i>10:\n",
    "    print(i,'is greater than 10')\n",
    "elif i<3:\n",
    "    print(i,'is less than 3')\n",
    "else:\n",
    "    print(i,'is between 3 and 10')"
   ]
  },
  {
   "cell_type": "code",
   "execution_count": null,
   "metadata": {},
   "outputs": [],
   "source": []
  }
 ],
 "metadata": {
  "kernelspec": {
   "display_name": "Python 3",
   "language": "python",
   "name": "python3"
  },
  "language_info": {
   "codemirror_mode": {
    "name": "ipython",
    "version": 3
   },
   "file_extension": ".py",
   "mimetype": "text/x-python",
   "name": "python",
   "nbconvert_exporter": "python",
   "pygments_lexer": "ipython3",
   "version": "3.8.5"
  },
  "metadata": {
   "interpreter": {
    "hash": "2b7b5a710781a87842cfe8010c06442799678ef166246941c85da77d9a8410c1"
   }
  }
 },
 "nbformat": 4,
 "nbformat_minor": 4
}
