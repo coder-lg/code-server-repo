{
 "cells": [
  {
   "cell_type": "markdown",
   "metadata": {},
   "source": [
    "# Object Oriented Programming in Python"
   ]
  },
  {
   "cell_type": "markdown",
   "metadata": {},
   "source": [
    "Variables in a class=attribute\n",
    "\n",
    "functions in a class=method\n",
    "\n",
    "instance of a particular class=object\n"
   ]
  },
  {
   "cell_type": "code",
   "execution_count": 5,
   "metadata": {},
   "outputs": [
    {
     "name": "stdout",
     "output_type": "stream",
     "text": [
      "1.7\n",
      "3.74\n"
     ]
    }
   ],
   "source": [
    "class My_data_type:\n",
    "    def init_some_vals(self,val2):\n",
    "        self.first_var=1.7\n",
    "        self.second_var=val2\n",
    "    def multiply_vals(self):\n",
    "        return self.first_var*self.second_var\n",
    "\n",
    "me=My_data_type()\n",
    "me.init_some_vals(2.2)\n",
    "print(me.first_var)\n",
    "print(me.multiply_vals())"
   ]
  },
  {
   "cell_type": "code",
   "execution_count": 7,
   "metadata": {},
   "outputs": [
    {
     "ename": "NameError",
     "evalue": "name 'self' is not defined",
     "output_type": "error",
     "traceback": [
      "\u001b[1;31m---------------------------------------------------------------------------\u001b[0m",
      "\u001b[1;31mNameError\u001b[0m                                 Traceback (most recent call last)",
      "\u001b[1;32m<ipython-input-7-6c4cb10fb7d8>\u001b[0m in \u001b[0;36m<module>\u001b[1;34m\u001b[0m\n\u001b[1;32m----> 1\u001b[1;33m \u001b[0mprint\u001b[0m\u001b[1;33m(\u001b[0m\u001b[0mself\u001b[0m\u001b[1;33m.\u001b[0m\u001b[0mfirst_var\u001b[0m\u001b[1;33m)\u001b[0m\u001b[1;33m\u001b[0m\u001b[1;33m\u001b[0m\u001b[0m\n\u001b[0m",
      "\u001b[1;31mNameError\u001b[0m: name 'self' is not defined"
     ]
    }
   ],
   "source": [
    "print(self.first_var) #self is used only in class definition"
   ]
  },
  {
   "cell_type": "code",
   "execution_count": 10,
   "metadata": {},
   "outputs": [
    {
     "name": "stdout",
     "output_type": "stream",
     "text": [
      "231.3\n"
     ]
    }
   ],
   "source": [
    "me.third_var=231.3\n",
    "print(me.third_var)"
   ]
  },
  {
   "cell_type": "code",
   "execution_count": 21,
   "metadata": {},
   "outputs": [
    {
     "name": "stdout",
     "output_type": "stream",
     "text": [
      "This pet is a orange cat\n",
      "This pet has the name of Mittens and it is 3 years old\n",
      "This pet weighs 7 pounds,which is 3.175144 in kilograms\n",
      "\n",
      "This pet is a brown dog\n",
      "This pet has the name of Spot and it is 9 years old\n",
      "This pet weighs 10 pounds,which is 4.53592 in kilograms\n"
     ]
    }
   ],
   "source": [
    "class Pet:\n",
    "    def __init__(self,animal_type,name,age,weight_lbs,colour):\n",
    "        self.animal=animal_type\n",
    "        self.name=name\n",
    "        self.age=age\n",
    "        self.weight_lbs=weight_lbs\n",
    "        self.colour=colour\n",
    "        self.weight_kg=self.calc_weight_in_kg()\n",
    "    def calc_weight_in_kg(self):\n",
    "        return 0.453592*self.weight_lbs\n",
    "\n",
    "    def describe_pet(self):\n",
    "        print('This pet is a',self.colour,self.animal)\n",
    "        print('This pet has the name of',self.name,'and it is',self.age,'years old')\n",
    "        print('This pet weighs',self.weight_lbs,'pounds,which is',self.weight_kg,'in kilograms')\n",
    "\n",
    "my_cat=Pet('cat','Mittens',3,7,'orange')\n",
    "my_dog=Pet('dog','Spot',9,10,'brown')\n",
    "my_cat.describe_pet()\n",
    "print('')\n",
    "my_dog.describe_pet()"
   ]
  },
  {
   "cell_type": "code",
   "execution_count": 23,
   "metadata": {},
   "outputs": [
    {
     "name": "stdout",
     "output_type": "stream",
     "text": [
      "orange\n",
      "9\n"
     ]
    }
   ],
   "source": [
    "print(my_cat.colour)\n",
    "print(my_dog.age)"
   ]
  },
  {
   "cell_type": "code",
   "execution_count": 25,
   "metadata": {},
   "outputs": [
    {
     "name": "stdout",
     "output_type": "stream",
     "text": [
      "5\n",
      "3.175144\n"
     ]
    }
   ],
   "source": [
    "my_cat.weight_lbs=5\n",
    "print(my_cat.weight_lbs)\n",
    "print(my_cat.weight_kg)"
   ]
  },
  {
   "cell_type": "code",
   "execution_count": 26,
   "metadata": {},
   "outputs": [
    {
     "name": "stdout",
     "output_type": "stream",
     "text": [
      "2.26796\n",
      "4.53592\n",
      "3.175144\n",
      "2.26796\n"
     ]
    }
   ],
   "source": [
    "print(my_cat.calc_weight_in_kg())\n",
    "print(my_dog.calc_weight_in_kg())\n",
    "print(my_cat.weight_kg)\n",
    "my_cat.weight_kg=my_cat.calc_weight_in_kg()\n",
    "print(my_cat.weight_kg)"
   ]
  }
 ],
 "metadata": {
  "kernelspec": {
   "display_name": "Python 3",
   "language": "python",
   "name": "python3"
  },
  "language_info": {
   "codemirror_mode": {
    "name": "ipython",
    "version": 3
   },
   "file_extension": ".py",
   "mimetype": "text/x-python",
   "name": "python",
   "nbconvert_exporter": "python",
   "pygments_lexer": "ipython3",
   "version": "3.8.5"
  },
  "metadata": {
   "interpreter": {
    "hash": "2b7b5a710781a87842cfe8010c06442799678ef166246941c85da77d9a8410c1"
   }
  }
 },
 "nbformat": 4,
 "nbformat_minor": 2
}
